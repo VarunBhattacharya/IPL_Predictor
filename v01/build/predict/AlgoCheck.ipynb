{
 "cells": [
  {
   "cell_type": "code",
   "execution_count": 1,
   "id": "a2a6d591",
   "metadata": {},
   "outputs": [],
   "source": [
    "import pandas as pd"
   ]
  },
  {
   "cell_type": "code",
   "execution_count": 2,
   "id": "4f7b5e9b",
   "metadata": {},
   "outputs": [],
   "source": [
    "import numpy as np"
   ]
  },
  {
   "cell_type": "code",
   "execution_count": 3,
   "id": "15c37346",
   "metadata": {},
   "outputs": [],
   "source": [
    "from scipy import stats"
   ]
  },
  {
   "cell_type": "code",
   "execution_count": 4,
   "id": "83169dc3",
   "metadata": {},
   "outputs": [],
   "source": [
    "from sklearn.model_selection import train_test_split"
   ]
  },
  {
   "cell_type": "code",
   "execution_count": 5,
   "id": "60a96c7c",
   "metadata": {},
   "outputs": [],
   "source": [
    "from sklearn.linear_model import LinearRegression"
   ]
  },
  {
   "cell_type": "code",
   "execution_count": 6,
   "id": "e64c028b",
   "metadata": {},
   "outputs": [],
   "source": [
    "df = pd.read_csv(\"Cleaned_Data_Mod.csv\")"
   ]
  },
  {
   "cell_type": "code",
   "execution_count": 7,
   "id": "69e780f1",
   "metadata": {},
   "outputs": [
    {
     "data": {
      "text/html": [
       "<div>\n",
       "<style scoped>\n",
       "    .dataframe tbody tr th:only-of-type {\n",
       "        vertical-align: middle;\n",
       "    }\n",
       "\n",
       "    .dataframe tbody tr th {\n",
       "        vertical-align: top;\n",
       "    }\n",
       "\n",
       "    .dataframe thead th {\n",
       "        text-align: right;\n",
       "    }\n",
       "</style>\n",
       "<table border=\"1\" class=\"dataframe\">\n",
       "  <thead>\n",
       "    <tr style=\"text-align: right;\">\n",
       "      <th></th>\n",
       "      <th>Team_1</th>\n",
       "      <th>Team_2</th>\n",
       "      <th>City_Played</th>\n",
       "      <th>Player_of_Match</th>\n",
       "      <th>Venue</th>\n",
       "      <th>Toss_Winner</th>\n",
       "      <th>Toss_Decision</th>\n",
       "      <th>Winner_of_Match</th>\n",
       "      <th>Result</th>\n",
       "    </tr>\n",
       "  </thead>\n",
       "  <tbody>\n",
       "    <tr>\n",
       "      <th>0</th>\n",
       "      <td>RCB</td>\n",
       "      <td>KKR</td>\n",
       "      <td>Bangalore</td>\n",
       "      <td>BB McCullum</td>\n",
       "      <td>M Chinnaswamy Stadium</td>\n",
       "      <td>RCB</td>\n",
       "      <td>Field</td>\n",
       "      <td>KKR</td>\n",
       "      <td>Runs</td>\n",
       "    </tr>\n",
       "    <tr>\n",
       "      <th>1</th>\n",
       "      <td>PBKS</td>\n",
       "      <td>CSK</td>\n",
       "      <td>Chandigarh</td>\n",
       "      <td>MEK Hussey</td>\n",
       "      <td>Punjab Cricket Association Stadium, Mohali</td>\n",
       "      <td>CSK</td>\n",
       "      <td>Bat</td>\n",
       "      <td>CSK</td>\n",
       "      <td>Runs</td>\n",
       "    </tr>\n",
       "    <tr>\n",
       "      <th>2</th>\n",
       "      <td>DC</td>\n",
       "      <td>RR</td>\n",
       "      <td>Delhi</td>\n",
       "      <td>MF Maharoof</td>\n",
       "      <td>Feroz Shah Kotla</td>\n",
       "      <td>RR</td>\n",
       "      <td>Bat</td>\n",
       "      <td>DC</td>\n",
       "      <td>Wickets</td>\n",
       "    </tr>\n",
       "    <tr>\n",
       "      <th>3</th>\n",
       "      <td>MI</td>\n",
       "      <td>RCB</td>\n",
       "      <td>Mumbai</td>\n",
       "      <td>MV Boucher</td>\n",
       "      <td>Wankhede Stadium</td>\n",
       "      <td>MI</td>\n",
       "      <td>Bat</td>\n",
       "      <td>RCB</td>\n",
       "      <td>Wickets</td>\n",
       "    </tr>\n",
       "    <tr>\n",
       "      <th>4</th>\n",
       "      <td>KKR</td>\n",
       "      <td>Dec_C</td>\n",
       "      <td>Kolkata</td>\n",
       "      <td>DJ Hussey</td>\n",
       "      <td>Eden Gardens</td>\n",
       "      <td>Dec_C</td>\n",
       "      <td>Bat</td>\n",
       "      <td>KKR</td>\n",
       "      <td>Wickets</td>\n",
       "    </tr>\n",
       "  </tbody>\n",
       "</table>\n",
       "</div>"
      ],
      "text/plain": [
       "  Team_1 Team_2 City_Played Player_of_Match  \\\n",
       "0    RCB    KKR   Bangalore     BB McCullum   \n",
       "1   PBKS    CSK  Chandigarh      MEK Hussey   \n",
       "2     DC     RR       Delhi     MF Maharoof   \n",
       "3     MI    RCB      Mumbai      MV Boucher   \n",
       "4    KKR  Dec_C     Kolkata       DJ Hussey   \n",
       "\n",
       "                                        Venue Toss_Winner Toss_Decision  \\\n",
       "0                       M Chinnaswamy Stadium         RCB         Field   \n",
       "1  Punjab Cricket Association Stadium, Mohali         CSK           Bat   \n",
       "2                            Feroz Shah Kotla          RR           Bat   \n",
       "3                            Wankhede Stadium          MI           Bat   \n",
       "4                                Eden Gardens       Dec_C           Bat   \n",
       "\n",
       "  Winner_of_Match   Result  \n",
       "0             KKR     Runs  \n",
       "1             CSK     Runs  \n",
       "2              DC  Wickets  \n",
       "3             RCB  Wickets  \n",
       "4             KKR  Wickets  "
      ]
     },
     "execution_count": 7,
     "metadata": {},
     "output_type": "execute_result"
    }
   ],
   "source": [
    "df.head()"
   ]
  },
  {
   "cell_type": "code",
   "execution_count": 8,
   "id": "94bf5cf1",
   "metadata": {},
   "outputs": [],
   "source": [
    "def team_converter(s):\n",
    "    s = s.lower()\n",
    "    if(s == \"csk\"): return 1\n",
    "    if(s == \"mi\"): return 2\n",
    "    if(s == \"srh\"): return 3\n",
    "    if(s == \"kkr\"): return 4\n",
    "    if(s == \"dc\"): return 5\n",
    "    if(s == \"dec_c\"): return 6\n",
    "    if(s == \"pbks\"): return 7\n",
    "    if(s == \"rcb\"): return 8\n",
    "    if(s == \"gl\"): return 9\n",
    "    if(s == \"pw\"): return 10\n",
    "    if(s == \"rps\"): return 11\n",
    "    if(s == \"rr\"): return 12\n",
    "    if(s == \"ktk\"): return 13\n",
    "    return -1\n",
    "\n",
    "def toss_win(s):\n",
    "    s = s.lower()\n",
    "    if(s == \"team1\"): return 1\n",
    "    if(s == \"team2\"): return 2\n",
    "    return -1\n",
    "\n",
    "def city_converter(s):\n",
    "    s = s.lower()\n",
    "    if(s == 'abu dhabi'): return 1\n",
    "    if(s == 'ahmedabad'): return 2\n",
    "    if(s == 'bangalore' or s == 'bengaluru'): return 3\n",
    "    if(s == 'bloemfontein'): return 4\n",
    "    if(s == 'cape town'): return 5\n",
    "    if(s == 'centurion'): return 6\n",
    "    if(s == 'chandigarh'): return 7\n",
    "    if(s == 'chennai'): return 8\n",
    "    if(s == 'cuttack'): return 9\n",
    "    if(s == 'delhi'): return 10\n",
    "    if(s == 'dharamsala'): return 11\n",
    "    if(s == 'dubai'): return 12\n",
    "    if(s == 'east london'): return 13\n",
    "    if(s == 'hyderabad'): return 14\n",
    "    if(s == 'indore'): return 15\n",
    "    if(s == 'jaipur'): return 16\n",
    "    if(s == 'johannesburg'): return 17\n",
    "    if(s == 'kanpur'): return 18\n",
    "    if(s == 'kimberley'): return 19\n",
    "    if(s == 'kochi'): return 20\n",
    "    if(s == 'kolkata'): return 21\n",
    "    if(s == 'mumbai'): return 22\n",
    "    if(s == 'na'): return 23\n",
    "    if(s == 'nagpur'): return 24\n",
    "    if(s == 'port elizabeth'): return 25\n",
    "    if(s == 'pune'): return 26\n",
    "    if(s == 'raipur'): return 27\n",
    "    if(s == 'rajkot'): return 28\n",
    "    if(s == 'ranchi'): return 29\n",
    "    if(s == 'sharjah'): return 30\n",
    "    if(s == 'visakhapatnam'): return 31\n",
    "    return -1\n",
    "\n",
    "def team_converter_back(m):\n",
    "    if(m == 1): return \"CSK\"\n",
    "    if(m == 2): return \"MI\"\n",
    "    if(m == 3): return \"SRH\"\n",
    "    if(m == 4): return \"KKR\"\n",
    "    if(m == 5): return \"DC\"\n",
    "    if(m == 6): return \"DEC_C\"\n",
    "    if(m == 7): return \"PBKS\"\n",
    "    if(m == 8): return \"RCB\"\n",
    "    if(m == 9): return \"GL\"\n",
    "    if(m == 10): return \"PW\"\n",
    "    if(m == 11): return \"RPS\"\n",
    "    if(m == 12): return \"RR\"\n",
    "    if(m == 13): return \"KTK\"\n",
    "    return -1\n",
    "\n",
    "def algo_converter(s):\n",
    "    s = s.lower()\n",
    "    if(s == \"linearregression\"): return 1\n",
    "    return -1\n",
    "\n",
    "def toss_dec_converter(s):\n",
    "    s = s.lower()\n",
    "    if(s == \"field\"): return 1\n",
    "    if(s == \"bat\"): return 2\n",
    "    return -1"
   ]
  },
  {
   "cell_type": "code",
   "execution_count": 9,
   "id": "2534cfc8",
   "metadata": {},
   "outputs": [],
   "source": [
    "df = pd.read_csv(\"Cleaned_Data_Mod.csv\", converters = {\"Team_1\":team_converter,\n",
    "    \"Team_2\":team_converter, \"Toss_Winner\":team_converter,\"Toss_Decision\":toss_dec_converter,\n",
    "    \"Winner_of_Match\":team_converter, \"City_Played\":city_converter})"
   ]
  },
  {
   "cell_type": "code",
   "execution_count": 10,
   "id": "27c37b57",
   "metadata": {},
   "outputs": [
    {
     "data": {
      "text/html": [
       "<div>\n",
       "<style scoped>\n",
       "    .dataframe tbody tr th:only-of-type {\n",
       "        vertical-align: middle;\n",
       "    }\n",
       "\n",
       "    .dataframe tbody tr th {\n",
       "        vertical-align: top;\n",
       "    }\n",
       "\n",
       "    .dataframe thead th {\n",
       "        text-align: right;\n",
       "    }\n",
       "</style>\n",
       "<table border=\"1\" class=\"dataframe\">\n",
       "  <thead>\n",
       "    <tr style=\"text-align: right;\">\n",
       "      <th></th>\n",
       "      <th>Team_1</th>\n",
       "      <th>Team_2</th>\n",
       "      <th>City_Played</th>\n",
       "      <th>Player_of_Match</th>\n",
       "      <th>Venue</th>\n",
       "      <th>Toss_Winner</th>\n",
       "      <th>Toss_Decision</th>\n",
       "      <th>Winner_of_Match</th>\n",
       "      <th>Result</th>\n",
       "    </tr>\n",
       "  </thead>\n",
       "  <tbody>\n",
       "    <tr>\n",
       "      <th>0</th>\n",
       "      <td>8</td>\n",
       "      <td>4</td>\n",
       "      <td>3</td>\n",
       "      <td>BB McCullum</td>\n",
       "      <td>M Chinnaswamy Stadium</td>\n",
       "      <td>8</td>\n",
       "      <td>1</td>\n",
       "      <td>4</td>\n",
       "      <td>Runs</td>\n",
       "    </tr>\n",
       "    <tr>\n",
       "      <th>1</th>\n",
       "      <td>7</td>\n",
       "      <td>1</td>\n",
       "      <td>7</td>\n",
       "      <td>MEK Hussey</td>\n",
       "      <td>Punjab Cricket Association Stadium, Mohali</td>\n",
       "      <td>1</td>\n",
       "      <td>2</td>\n",
       "      <td>1</td>\n",
       "      <td>Runs</td>\n",
       "    </tr>\n",
       "    <tr>\n",
       "      <th>2</th>\n",
       "      <td>5</td>\n",
       "      <td>12</td>\n",
       "      <td>10</td>\n",
       "      <td>MF Maharoof</td>\n",
       "      <td>Feroz Shah Kotla</td>\n",
       "      <td>12</td>\n",
       "      <td>2</td>\n",
       "      <td>5</td>\n",
       "      <td>Wickets</td>\n",
       "    </tr>\n",
       "    <tr>\n",
       "      <th>3</th>\n",
       "      <td>2</td>\n",
       "      <td>8</td>\n",
       "      <td>22</td>\n",
       "      <td>MV Boucher</td>\n",
       "      <td>Wankhede Stadium</td>\n",
       "      <td>2</td>\n",
       "      <td>2</td>\n",
       "      <td>8</td>\n",
       "      <td>Wickets</td>\n",
       "    </tr>\n",
       "    <tr>\n",
       "      <th>4</th>\n",
       "      <td>4</td>\n",
       "      <td>6</td>\n",
       "      <td>21</td>\n",
       "      <td>DJ Hussey</td>\n",
       "      <td>Eden Gardens</td>\n",
       "      <td>6</td>\n",
       "      <td>2</td>\n",
       "      <td>4</td>\n",
       "      <td>Wickets</td>\n",
       "    </tr>\n",
       "  </tbody>\n",
       "</table>\n",
       "</div>"
      ],
      "text/plain": [
       "   Team_1  Team_2  City_Played Player_of_Match  \\\n",
       "0       8       4            3     BB McCullum   \n",
       "1       7       1            7      MEK Hussey   \n",
       "2       5      12           10     MF Maharoof   \n",
       "3       2       8           22      MV Boucher   \n",
       "4       4       6           21       DJ Hussey   \n",
       "\n",
       "                                        Venue  Toss_Winner  Toss_Decision  \\\n",
       "0                       M Chinnaswamy Stadium            8              1   \n",
       "1  Punjab Cricket Association Stadium, Mohali            1              2   \n",
       "2                            Feroz Shah Kotla           12              2   \n",
       "3                            Wankhede Stadium            2              2   \n",
       "4                                Eden Gardens            6              2   \n",
       "\n",
       "   Winner_of_Match   Result  \n",
       "0                4     Runs  \n",
       "1                1     Runs  \n",
       "2                5  Wickets  \n",
       "3                8  Wickets  \n",
       "4                4  Wickets  "
      ]
     },
     "execution_count": 10,
     "metadata": {},
     "output_type": "execute_result"
    }
   ],
   "source": [
    "df.head()"
   ]
  },
  {
   "cell_type": "code",
   "execution_count": 11,
   "id": "3240d795",
   "metadata": {},
   "outputs": [],
   "source": [
    "team1 = \"CSK\"\n",
    "team2 = \"MI\"\n",
    "city = \"Kolkata\""
   ]
  },
  {
   "cell_type": "code",
   "execution_count": 12,
   "id": "594a6b33",
   "metadata": {},
   "outputs": [],
   "source": [
    "team1 = team_converter(team1)"
   ]
  },
  {
   "cell_type": "code",
   "execution_count": 13,
   "id": "bc03b1d7",
   "metadata": {},
   "outputs": [],
   "source": [
    "team2 = team_converter(team2)"
   ]
  },
  {
   "cell_type": "code",
   "execution_count": 14,
   "id": "d2aea7d1",
   "metadata": {},
   "outputs": [
    {
     "data": {
      "text/plain": [
       "1"
      ]
     },
     "execution_count": 14,
     "metadata": {},
     "output_type": "execute_result"
    }
   ],
   "source": [
    "team1"
   ]
  },
  {
   "cell_type": "code",
   "execution_count": 15,
   "id": "a83caf3f",
   "metadata": {},
   "outputs": [
    {
     "data": {
      "text/plain": [
       "2"
      ]
     },
     "execution_count": 15,
     "metadata": {},
     "output_type": "execute_result"
    }
   ],
   "source": [
    "team2"
   ]
  },
  {
   "cell_type": "code",
   "execution_count": 16,
   "id": "e2b9d82a",
   "metadata": {},
   "outputs": [
    {
     "data": {
      "text/plain": [
       "21"
      ]
     },
     "execution_count": 16,
     "metadata": {},
     "output_type": "execute_result"
    }
   ],
   "source": [
    "city = city_converter(city)\n",
    "city"
   ]
  },
  {
   "cell_type": "code",
   "execution_count": 17,
   "id": "fdf1eedc",
   "metadata": {},
   "outputs": [],
   "source": [
    "df_temp = df[(df.Team_1 == team1)&(df.Team_2 == team2)]"
   ]
  },
  {
   "cell_type": "code",
   "execution_count": 18,
   "id": "3d88d487",
   "metadata": {},
   "outputs": [
    {
     "data": {
      "text/html": [
       "<div>\n",
       "<style scoped>\n",
       "    .dataframe tbody tr th:only-of-type {\n",
       "        vertical-align: middle;\n",
       "    }\n",
       "\n",
       "    .dataframe tbody tr th {\n",
       "        vertical-align: top;\n",
       "    }\n",
       "\n",
       "    .dataframe thead th {\n",
       "        text-align: right;\n",
       "    }\n",
       "</style>\n",
       "<table border=\"1\" class=\"dataframe\">\n",
       "  <thead>\n",
       "    <tr style=\"text-align: right;\">\n",
       "      <th></th>\n",
       "      <th>Team_1</th>\n",
       "      <th>Team_2</th>\n",
       "      <th>City_Played</th>\n",
       "      <th>Player_of_Match</th>\n",
       "      <th>Venue</th>\n",
       "      <th>Toss_Winner</th>\n",
       "      <th>Toss_Decision</th>\n",
       "      <th>Winner_of_Match</th>\n",
       "      <th>Result</th>\n",
       "    </tr>\n",
       "  </thead>\n",
       "  <tbody>\n",
       "    <tr>\n",
       "      <th>7</th>\n",
       "      <td>1</td>\n",
       "      <td>2</td>\n",
       "      <td>8</td>\n",
       "      <td>ML Hayden</td>\n",
       "      <td>MA Chidambaram Stadium, Chepauk</td>\n",
       "      <td>2</td>\n",
       "      <td>1</td>\n",
       "      <td>1</td>\n",
       "      <td>Runs</td>\n",
       "    </tr>\n",
       "    <tr>\n",
       "      <th>58</th>\n",
       "      <td>1</td>\n",
       "      <td>2</td>\n",
       "      <td>5</td>\n",
       "      <td>SR Tendulkar</td>\n",
       "      <td>Newlands</td>\n",
       "      <td>1</td>\n",
       "      <td>1</td>\n",
       "      <td>2</td>\n",
       "      <td>Runs</td>\n",
       "    </tr>\n",
       "    <tr>\n",
       "      <th>102</th>\n",
       "      <td>1</td>\n",
       "      <td>2</td>\n",
       "      <td>25</td>\n",
       "      <td>ML Hayden</td>\n",
       "      <td>St George's Park</td>\n",
       "      <td>2</td>\n",
       "      <td>2</td>\n",
       "      <td>1</td>\n",
       "      <td>Wickets</td>\n",
       "    </tr>\n",
       "    <tr>\n",
       "      <th>151</th>\n",
       "      <td>1</td>\n",
       "      <td>2</td>\n",
       "      <td>8</td>\n",
       "      <td>SK Raina</td>\n",
       "      <td>MA Chidambaram Stadium, Chepauk</td>\n",
       "      <td>1</td>\n",
       "      <td>2</td>\n",
       "      <td>1</td>\n",
       "      <td>Runs</td>\n",
       "    </tr>\n",
       "    <tr>\n",
       "      <th>174</th>\n",
       "      <td>1</td>\n",
       "      <td>2</td>\n",
       "      <td>22</td>\n",
       "      <td>SK Raina</td>\n",
       "      <td>Dr DY Patil Sports Academy</td>\n",
       "      <td>1</td>\n",
       "      <td>2</td>\n",
       "      <td>1</td>\n",
       "      <td>Runs</td>\n",
       "    </tr>\n",
       "  </tbody>\n",
       "</table>\n",
       "</div>"
      ],
      "text/plain": [
       "     Team_1  Team_2  City_Played Player_of_Match  \\\n",
       "7         1       2            8       ML Hayden   \n",
       "58        1       2            5    SR Tendulkar   \n",
       "102       1       2           25       ML Hayden   \n",
       "151       1       2            8        SK Raina   \n",
       "174       1       2           22        SK Raina   \n",
       "\n",
       "                               Venue  Toss_Winner  Toss_Decision  \\\n",
       "7    MA Chidambaram Stadium, Chepauk            2              1   \n",
       "58                          Newlands            1              1   \n",
       "102                 St George's Park            2              2   \n",
       "151  MA Chidambaram Stadium, Chepauk            1              2   \n",
       "174       Dr DY Patil Sports Academy            1              2   \n",
       "\n",
       "     Winner_of_Match   Result  \n",
       "7                  1     Runs  \n",
       "58                 2     Runs  \n",
       "102                1  Wickets  \n",
       "151                1     Runs  \n",
       "174                1     Runs  "
      ]
     },
     "execution_count": 18,
     "metadata": {},
     "output_type": "execute_result"
    }
   ],
   "source": [
    "df_temp.head()"
   ]
  },
  {
   "cell_type": "code",
   "execution_count": 19,
   "id": "7a56c6e5",
   "metadata": {},
   "outputs": [],
   "source": [
    "X = df_temp[['Team_1', 'Team_2', 'City_Played', 'Toss_Winner', 'Toss_Decision']]\n",
    "y = df_temp['Winner_of_Match'].values.reshape(-1,1)"
   ]
  },
  {
   "cell_type": "code",
   "execution_count": 20,
   "id": "c25faa39",
   "metadata": {},
   "outputs": [],
   "source": [
    "X_train, X_test, y_train, y_test = train_test_split(X, y, test_size = 0.3)"
   ]
  },
  {
   "cell_type": "code",
   "execution_count": 21,
   "id": "f9fab16b",
   "metadata": {},
   "outputs": [],
   "source": [
    "lr = LinearRegression()"
   ]
  },
  {
   "cell_type": "code",
   "execution_count": 22,
   "id": "676aafef",
   "metadata": {},
   "outputs": [
    {
     "data": {
      "text/plain": [
       "LinearRegression()"
      ]
     },
     "execution_count": 22,
     "metadata": {},
     "output_type": "execute_result"
    }
   ],
   "source": [
    "lr.fit(X_train, y_train)"
   ]
  },
  {
   "cell_type": "code",
   "execution_count": 23,
   "id": "93a9a155",
   "metadata": {},
   "outputs": [],
   "source": [
    "y_pred = lr.predict(X_test)"
   ]
  },
  {
   "cell_type": "code",
   "execution_count": 24,
   "id": "8141dcf8",
   "metadata": {},
   "outputs": [
    {
     "data": {
      "text/plain": [
       "array([[1.05292092],\n",
       "       [1.0945448 ],\n",
       "       [1.09774663],\n",
       "       [1.57161844],\n",
       "       [1.2067299 ],\n",
       "       [1.57161844]])"
      ]
     },
     "execution_count": 24,
     "metadata": {},
     "output_type": "execute_result"
    }
   ],
   "source": [
    "y_pred"
   ]
  },
  {
   "cell_type": "code",
   "execution_count": 25,
   "id": "b62b41a7",
   "metadata": {},
   "outputs": [],
   "source": [
    "res = stats.mode(y_pred)"
   ]
  },
  {
   "cell_type": "code",
   "execution_count": 26,
   "id": "cacd01de",
   "metadata": {},
   "outputs": [
    {
     "data": {
      "text/plain": [
       "ModeResult(mode=array([[1.57161844]]), count=array([[2]]))"
      ]
     },
     "execution_count": 26,
     "metadata": {},
     "output_type": "execute_result"
    }
   ],
   "source": [
    "res"
   ]
  },
  {
   "cell_type": "code",
   "execution_count": 27,
   "id": "c8145e22",
   "metadata": {},
   "outputs": [
    {
     "data": {
      "text/plain": [
       "1"
      ]
     },
     "execution_count": 27,
     "metadata": {},
     "output_type": "execute_result"
    }
   ],
   "source": [
    "res = int(res[0])\n",
    "res"
   ]
  },
  {
   "cell_type": "code",
   "execution_count": null,
   "id": "51c0d94d",
   "metadata": {},
   "outputs": [],
   "source": []
  },
  {
   "cell_type": "code",
   "execution_count": 29,
   "id": "2b7da3b3",
   "metadata": {},
   "outputs": [],
   "source": [
    "from sklearn.neighbors import KNeighborsClassifier"
   ]
  },
  {
   "cell_type": "code",
   "execution_count": 30,
   "id": "397e96f5",
   "metadata": {},
   "outputs": [],
   "source": [
    "df = pd.read_csv(\"Cleaned_Data_Mod.csv\", converters = {\"Team_1\":team_converter,\n",
    "    \"Team_2\":team_converter, \"Toss_Winner\":team_converter,\"Toss_Decision\":toss_dec_converter,\n",
    "    \"Winner_of_Match\":team_converter, \"City_Played\":city_converter})"
   ]
  },
  {
   "cell_type": "code",
   "execution_count": 31,
   "id": "e265eb74",
   "metadata": {},
   "outputs": [],
   "source": [
    "team1 = \"CSK\"\n",
    "team2 = \"MI\"\n",
    "city = \"Kolkata\""
   ]
  },
  {
   "cell_type": "code",
   "execution_count": 32,
   "id": "2b73a294",
   "metadata": {},
   "outputs": [],
   "source": [
    "team1 = team_converter(team1)\n",
    "team2 = team_converter(team2)"
   ]
  },
  {
   "cell_type": "code",
   "execution_count": 33,
   "id": "faa24f79",
   "metadata": {},
   "outputs": [],
   "source": [
    "df_temp = df[(df.Team_1 == team1)&(df.Team_2 == team2)]"
   ]
  },
  {
   "cell_type": "code",
   "execution_count": 34,
   "id": "3ae3570e",
   "metadata": {},
   "outputs": [],
   "source": [
    "X = df_temp[['Team_1', 'Team_2', 'City_Played', 'Toss_Winner', 'Toss_Decision']]\n",
    "y = df_temp['Winner_of_Match'].values.reshape(-1,1)"
   ]
  },
  {
   "cell_type": "code",
   "execution_count": 35,
   "id": "17f09f99",
   "metadata": {},
   "outputs": [],
   "source": [
    "X_train, X_test, y_train, y_test = train_test_split(X, y, test_size = 0.3)"
   ]
  },
  {
   "cell_type": "code",
   "execution_count": 37,
   "id": "ef751303",
   "metadata": {},
   "outputs": [],
   "source": [
    "kn = KNeighborsClassifier"
   ]
  },
  {
   "cell_type": "code",
   "execution_count": 38,
   "id": "f4a5fee5",
   "metadata": {},
   "outputs": [
    {
     "ename": "TypeError",
     "evalue": "KNeighborsClassifier.fit() missing 1 required positional argument: 'y'",
     "output_type": "error",
     "traceback": [
      "\u001b[1;31m---------------------------------------------------------------------------\u001b[0m",
      "\u001b[1;31mTypeError\u001b[0m                                 Traceback (most recent call last)",
      "\u001b[1;32m~\\AppData\\Local\\Temp/ipykernel_13008/308265659.py\u001b[0m in \u001b[0;36m<module>\u001b[1;34m\u001b[0m\n\u001b[1;32m----> 1\u001b[1;33m \u001b[0mkn\u001b[0m\u001b[1;33m.\u001b[0m\u001b[0mfit\u001b[0m\u001b[1;33m(\u001b[0m\u001b[0mX_train\u001b[0m\u001b[1;33m,\u001b[0m \u001b[0my_train\u001b[0m\u001b[1;33m)\u001b[0m\u001b[1;33m\u001b[0m\u001b[1;33m\u001b[0m\u001b[0m\n\u001b[0m",
      "\u001b[1;31mTypeError\u001b[0m: KNeighborsClassifier.fit() missing 1 required positional argument: 'y'"
     ]
    }
   ],
   "source": [
    "kn.fit(X_train, y_train)"
   ]
  },
  {
   "cell_type": "code",
   "execution_count": null,
   "id": "11636d2a",
   "metadata": {},
   "outputs": [],
   "source": []
  },
  {
   "cell_type": "code",
   "execution_count": null,
   "id": "73fc55ea",
   "metadata": {},
   "outputs": [],
   "source": []
  },
  {
   "cell_type": "code",
   "execution_count": null,
   "id": "b3701dd9",
   "metadata": {},
   "outputs": [],
   "source": []
  },
  {
   "cell_type": "code",
   "execution_count": null,
   "id": "96b26aca",
   "metadata": {},
   "outputs": [],
   "source": []
  },
  {
   "cell_type": "code",
   "execution_count": null,
   "id": "d20cb341",
   "metadata": {},
   "outputs": [],
   "source": []
  },
  {
   "cell_type": "code",
   "execution_count": null,
   "id": "42851521",
   "metadata": {},
   "outputs": [],
   "source": []
  },
  {
   "cell_type": "code",
   "execution_count": null,
   "id": "78880001",
   "metadata": {},
   "outputs": [],
   "source": []
  },
  {
   "cell_type": "code",
   "execution_count": 40,
   "id": "8c7535bc",
   "metadata": {},
   "outputs": [],
   "source": [
    "from sklearn.naive_bayes import GaussianNB\n",
    "from sklearn import metrics\n",
    "from sklearn.model_selection import train_test_split"
   ]
  },
  {
   "cell_type": "code",
   "execution_count": 41,
   "id": "7fa85c86",
   "metadata": {},
   "outputs": [],
   "source": [
    "X = df_temp[['Team_1', 'Team_2', 'City_Played', 'Toss_Winner', 'Toss_Decision']]\n",
    "y = df_temp['Winner_of_Match'].values.reshape(-1,1)"
   ]
  },
  {
   "cell_type": "code",
   "execution_count": 42,
   "id": "dd0864cb",
   "metadata": {},
   "outputs": [],
   "source": [
    "model = GaussianNB()"
   ]
  },
  {
   "cell_type": "code",
   "execution_count": 51,
   "id": "50a19b7b",
   "metadata": {},
   "outputs": [],
   "source": [
    "X_train, X_test, Y_train, Y_test = train_test_split(X,y, test_size = 0.3)"
   ]
  },
  {
   "cell_type": "code",
   "execution_count": 52,
   "id": "65d7edc7",
   "metadata": {},
   "outputs": [
    {
     "name": "stderr",
     "output_type": "stream",
     "text": [
      "C:\\WinSoft\\Python\\lib\\site-packages\\sklearn\\utils\\validation.py:993: DataConversionWarning: A column-vector y was passed when a 1d array was expected. Please change the shape of y to (n_samples, ), for example using ravel().\n",
      "  y = column_or_1d(y, warn=True)\n"
     ]
    },
    {
     "data": {
      "text/plain": [
       "GaussianNB()"
      ]
     },
     "execution_count": 52,
     "metadata": {},
     "output_type": "execute_result"
    }
   ],
   "source": [
    "model.fit(X_train, Y_train)"
   ]
  },
  {
   "cell_type": "code",
   "execution_count": 53,
   "id": "99d5e7c0",
   "metadata": {},
   "outputs": [],
   "source": [
    "y1 = model.predict(X_test)"
   ]
  },
  {
   "cell_type": "code",
   "execution_count": 54,
   "id": "457c7eec",
   "metadata": {},
   "outputs": [],
   "source": [
    "res = stats.mode(y1)"
   ]
  },
  {
   "cell_type": "code",
   "execution_count": 55,
   "id": "642dc844",
   "metadata": {},
   "outputs": [
    {
     "data": {
      "text/plain": [
       "2"
      ]
     },
     "execution_count": 55,
     "metadata": {},
     "output_type": "execute_result"
    }
   ],
   "source": [
    "res = int(res[0])\n",
    "res"
   ]
  },
  {
   "cell_type": "code",
   "execution_count": null,
   "id": "545fba3d",
   "metadata": {},
   "outputs": [],
   "source": []
  },
  {
   "cell_type": "code",
   "execution_count": null,
   "id": "00cb67af",
   "metadata": {},
   "outputs": [],
   "source": []
  }
 ],
 "metadata": {
  "kernelspec": {
   "display_name": "Python 3 (ipykernel)",
   "language": "python",
   "name": "python3"
  },
  "language_info": {
   "codemirror_mode": {
    "name": "ipython",
    "version": 3
   },
   "file_extension": ".py",
   "mimetype": "text/x-python",
   "name": "python",
   "nbconvert_exporter": "python",
   "pygments_lexer": "ipython3",
   "version": "3.10.1"
  }
 },
 "nbformat": 4,
 "nbformat_minor": 5
}
